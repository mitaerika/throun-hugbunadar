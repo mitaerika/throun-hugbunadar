{
 "cells": [
  {
   "cell_type": "code",
   "execution_count": 18,
   "id": "bbb5fc02-0909-494a-a0bd-e31219e87636",
   "metadata": {},
   "outputs": [
    {
     "name": "stdout",
     "output_type": "stream",
     "text": [
      "2023-04-01 08:00:00 2023-04-02 08:00:00\n",
      "2023-04-01 08:00:00 11:00:00\n",
      "INSERT INTO Daytrip VALUES('Jöklaganga','Íslensku Jöklarnir eru einar af frægustu náttúruperlum þjóðar okkar, enda eru þeir svakalegt dæmi um hið svakalega afl sem náttúran hefur. Það eru fáar upplifanir jafn magnaðar og að fara í jöklagöngu. Þar færðu útsýni líkt engu öðru, endalaus snjór og ís í allar áttir, sólargeislarnir endarspeglaðir allstaðar frá. Á göngunni verður skoðað íshelli, sprungur, og allskyns aðra hluti. Leiðsögumaðurinn hefur gengið þar um í mörg, mörg ár og veit um allskyns leyndarmál falin í jöklinum. Matur er innifalinn í ferð. Til þess að koma með þarf góða gönguskó, hlýja úlpu, snjóbuxur, húfu, vettlinga, góðan bakpoka, og það er mælt með að fólk sé í góðu formi og reynslumikið í fjallgöngum.','Suður',20999);\n",
      "INSERT INTO Daytrip VALUES('Hekluganga','Við vitum öll um hið hræðilega, tignarlega vald sem eldgos hafa. Óskiljanlegur kraftur liggur að baki þeirra, nægur kraftur til þess að eyðileggja heilar siðmenningar. Heklugos hafa ávallt verið svaðaleg og mögnuð, og því er tilvalið að skoða hana. Við bjóðum upp á skemmtilega og fræðandi göngu upp fjallið. Leiðsögumaðurinn er jarðfræðingur og veit endalausar staðreyndir um Heklu, eldgos og bergið sem þið munuð labba á. Mikilvægt er að hafa með góða gönguskó, hlýja úlpu, húfu og vettlinga, góðan göngu bakpoka og nesti.','Suður',15999);\n",
      "INSERT INTO Daytrip VALUES('Skoðunarferð á bóndabæ','Dýr hafa fylgt mannkyninu í þúsundir ára, og munu fylgja okkur í þúsundir ára í viðbót. Því bjóðum við upp á ferð á bóndabæ þar sem er hægt að kíkja á öll fallegu dýrin okkar. Á þessum afar fagra, gamaldags bæ má finna beljur, svín, hænur, hana, hesta, kindur og geitur. Hægt verður að drekka mjólk beint frá kúnum, smakka fersk egg, fara á hestbak og auðvitað má klappa öllum dýrunum. Ef þú ert heppinn með tíma er jafnvel hægt að sjá sauðburðinn. Ekki er mælt með að mæta í fínum fötum, þar sem það er létt að skíta þau út. Innifalinn máltíð gerð einungis úr afurðum bæjarins.','Suður',10999);\n",
      "INSERT INTO Daytrip VALUES('Gistiferð undir stjórnuhimni','Stjörnurnar á himninum hafa áreiðanlega veitt hverju einasta skáldi, listamanni, söngvara og rithöfundi innblástur á einn hátt eða annan. Því bjóðum við nú upp á gistingu undir næturhimninum. Snemma um kvöldið verður gengið upp fjallshlíð þar sem við höfum fundið yndislegan stað þar sem hægt er að sofa undir berum himni. Um kvöldið verður kveikt varðeld þar sem við munum elda mat og spjalla, grilla sykurpúða, drekka kakó og syngja gömul íslensk lög saman. Þegar líður á kvöldið verður slökkt í varðeldinum og sérfræðingur okkar mun segja ykkur frá allskyns staðreyndum um stjörnurnar, stjörnumerkin, og hvernig áhrif næturhimininn hefur haft á samfélagið okkar. Mikilvægt er að taka með sér góðan bakpoka, hlýjan svefnpoka, ullarföt, kodda, vatnsbrúsa og jafnvel minniháttar nesti.','Suðvestur',6999);\n",
      "INSERT INTO Daytrip VALUES('Hvalaskoðun','Ef það væri ekki fyrir sjávarafurðir okkar hefði siðmenning okkar fallið fyrir hundruðum ára. Ísland er þekkt fyrir að eyða miklum tíma í að veiða, en fátt í sjónum er jafn magnað og hvalirnir sem umkringja landið okkar. Núna bjóðum við upp á að fara með snekkju út á sjó og fá þá einstöku upplifun að sjá hval í sínu náttúrulega umhverfi. Um borð skipsins verður í boði ein máltíð, en það þarf að borga fyrir drykki sjálfur. Þetta er frábær upplifun ef þú vilt hafa fjör út á hafi og skoða náttúruna í leiðinni.','Suðvestur',30999);\n",
      "INSERT INTO Daytrip VALUES('Dagur Rjúpunnar','Afar stór partur af íslenskri menningu eru rjúpna veiðar. Veiðimenn keyra út á rjúpnasvæði hundruðum talið, labba klukkutíman saman í snjó og kulda, og vonast eftir að finna bráð. Við bjóðum upp á dagsferð fyrir hópa af 2-4 þar sem mæting er 6 um morgun og þið verðið upp í fjalli til 10 um kvöldið. Leiðsögumaður okkar hefur veitt rjúpu í meira en fjörtíu ár og er því afar reynslumikill og góður veiðimaður. Hann mun leyfa ykkur öllum að reyna að skjóta rjúpu, og ef þið hittið megið þið skipta rjúpunum á milli ykkar. Afar mikilvægt er að vera í hlýjum fötum, góðum gönguskóm, hafa byssuleyfi og taka með sér gott og næringarríkt nesti.','Norðvestur',49999);\n",
      "INSERT INTO Daytrip VALUES('Hellaskoðanir','Þar sem Ísland er afar eldvirkt land, með magnaða sögu að baki sér hafa myndast hér allskyns hellar og furðuleg náttúruafbrigði. Í þessari ferð ætlum við að skoða allskyns hella upp á hálendi. Keyrt verður eins nálægt hellunum og við komumst, síðan verður gengið þar um og skoðað. Það verður jarðfræðingur með ykkur sem mun útskýra hvernig hellar myndast, sögulegt samhengi þeirra ásamt fullt af litlum fróðleiksmolum tengda hellunum. Sniðugt er að vera í góðum gönguskóm, fötum eftir veðri, taka með sér vatnsbrúsa og jafnvel lítið nesti.','Norðaustur',17999);\n",
      "INSERT INTO Daytrip VALUES('Rútuferð um Gullna hringinn','Þú hefur eflaust heyrt um gullna hringinn fræga. Í þessari ferð verður farið með rútu og keyrt allan gullna hringinn. Það verður stoppað hjá Þingvellum, Geysi, Gullfoss, Skálholt og ef tíminn er nægur verður jafnvel stoppað á nokkrum fleiri stöðum þar í kring. Þetta er frábær leið til þess að kynnast íslenskum náttúruperlum betur, og sjá hvað þetta land hefur upp á að bjóða. Mælt er með að vera í góðum göngskóm og klæða sig eftir veðri. Sniðugt væri að taka nesti og vatnsbrúsa með, þó það verði stoppað á veitingastað.','Suður',12999);\n",
      "INSERT INTO Daytrip VALUES('Fræðiferð um Reykjavík','Bæjarferð! Já, þú last rétt. Við bjóðum upp á að rölta um miðbæinn með sagnfræðingi sem getur gefið þér endalausan fróðleik um hvernig bærinn þróaðist, allskyns gamlar byggingar og auðkenni, og frægt fólk sem hefur búið þar í kring. Einstaklega sniðug ferð fyrir fólk sem hefur mikinn áhuga á sögu Reykjavíks. Í enda gögunnar verður farið á veitingastað þar sem verður ljómandi máltíð og síðan verður skellt í Kahoot um það sem þið hafið lært. Vinningur er í boði fyrir fyrsta sæti.','Suðvestur',14999);\n",
      "INSERT INTO Daytrip VALUES('Ganga að Laugarfellslaug','Fátt er jafn unaðslegt og löng ganga sem endar í afslöppuðu, hlýju baði. Keyrt verður upp að Fljótsdalshreðri og síðan gengið þaðan meðfram Laugará upp að Laugarfellslaug. Laugin er grafin í molldarkenndan jarðveg með veggi úr stóru, flötu grjóti. Hitastigið er um það bil 40 gráður og ágætis pláss í henni. Eftir að farið er í laugina verður rölt aftur að rútunni og keyrt heim. Sniðugt er að taka með góða gönguskó og klæðast vel þar sem þetta er á hálendi. Nauðsynlegt er að taka sundskýlu, handklæði og nesti.','Suður',18999);\n",
      "INSERT INTO Daytrip VALUES('Dagsferð til Vestmannaeyja','Allt landið tók andköf þegar heimaeyjargosið hófst. Enda er það líklegast það sem Heimaey er frægust fyrir, það eða þjóðhátíð. Núna bjóðum við upp á að kíkja í dagsferð til Heimaey. Þar er hægt að skoða bæjinn, fara í sund, labba í náttúrunni, kíkja í Herjólfsdal, og auðvitað smakka það sem heimamenn hafa upp á að bjóða. Það verður leiðsögumaður, en það er afar líklegt að hópurinn muni skiptast upp yfir daginn. Sniðugt að klæðast eftir veðri, taka með sér sundföt og smá nesti, og mjög mikilvægt að hafa á hreinu hvenær skipið kemur og fer.','Suður',23999);\n",
      "INSERT INTO Daytrip VALUES('Skotsvæði','Á íslandi eru um það bil þrjátíu byssur fyrir hverja hundruð íbúa, sem kemur kannski á óvart því Ísland er afar friðsælt land. Við höfum þó afar gaman af byssum, og því eru skotsvæði allstaðar um landið. Í þessari ferð verður farið með rútu að skotsvæði út á landi og eytt nokkrum tímum þar. Hægt er að skjóta með boga og allskyns riflum, og þar verður sérfræðingur sem getur kennt að miða betur. Börn yngri en 15 eru ekki leyfð.','Norðaustur',8999);\n"
     ]
    },
    {
     "data": {
      "text/plain": [
       "'\\ndaytrip_title = list()\\nrating = list()\\ntext = list()\\nfilename2 = \"Review.txt\"\\ng = open(filename2, encoding=\\'utf-8-sig\\')\\nreader2 = csv.reader(g, delimiter=\\',\\', skipinitialspace=True)\\nfor l in reader2:\\n    daytrip_title.append(l[0].strip())\\n    rating.append(int(l[1].strip()))\\n    text.append(l[2].strip())\\n\\nn = len(daytrip_title)\\nprint(n)\\nfor j in range(len(daytrip_title)):\\n    print(f\"INSERT INTO Review VALUES(\\'{j:04}\\',\\'{daytrip_title[j]}\\',{rating[j]},\\'{text[j]}\\');\")\\n'"
      ]
     },
     "execution_count": 18,
     "metadata": {},
     "output_type": "execute_result"
    }
   ],
   "source": [
    "import csv\n",
    "from datetime import date, datetime, timedelta\n",
    "\n",
    "title = list()\n",
    "description = list()\n",
    "location = list()\n",
    "price = list()\n",
    "tripdate = list()\n",
    "filename1 = \"Daytrip.txt\"\n",
    "f = open(filename1, encoding='utf-8-sig')\n",
    "reader = csv.reader(f, delimiter=',', skipinitialspace=True)\n",
    "for line in reader:\n",
    "    title.append(line[0].strip())\n",
    "    description.append(line[1].strip())\n",
    "    location.append(line[2].strip())\n",
    "    price.append(int(line[3]))\n",
    "    \n",
    "\n",
    "d = datetime.fromisoformat('2023-04-01T08:00:00')\n",
    "d1 = timedelta(days=1)\n",
    "d3 = timedelta(days=3)\n",
    "d5 = timedelta(days=5)\n",
    "\n",
    "t3 = timedelta(hours=3)\n",
    "t6 = timedelta(hours=6)\n",
    "t9 = timedelta(hours=9)\n",
    "\n",
    "print(d,d+d1)\n",
    "print(d,(d+t3).time())\n",
    "\n",
    "for i in range(len(title)):\n",
    "    if (i%3==0):\n",
    "        for j in range(3):\n",
    "            print(f\"INSERT INTO Daytrip VALUES('{title[i]}','{description[i]}',d+d3,d.time(),(d+t9).time(),'{location[i]}',{price[i]});\")\n",
    "    else:\n",
    "        print(f\"INSERT INTO Daytrip VALUES('{title[i]}','{description[i]}',d,d.time(),(d+t3).time(),'{location[i]}',{price[i]});\")\n",
    "        print(f\"INSERT INTO Daytrip VALUES('{title[i]}','{description[i]}',d+d5,d.time(),(d+t3).time(),'{location[i]}',{price[i]});\")\n",
    "\n",
    "print()\n",
    "        \n",
    "'''\n",
    "daytrip_title = list()\n",
    "rating = list()\n",
    "text = list()\n",
    "filename2 = \"Review.txt\"\n",
    "g = open(filename2, encoding='utf-8-sig')\n",
    "reader2 = csv.reader(g, delimiter=',', skipinitialspace=True)\n",
    "for l in reader2:\n",
    "    daytrip_title.append(l[0].strip())\n",
    "    rating.append(int(l[1].strip()))\n",
    "    text.append(l[2].strip())\n",
    "\n",
    "n = len(daytrip_title)\n",
    "print(n)\n",
    "for j in range(len(daytrip_title)):\n",
    "    print(f\"INSERT INTO Review VALUES('{j:04}','{daytrip_title[j]}',{rating[j]},'{text[j]}');\")\n",
    "'''"
   ]
  },
  {
   "cell_type": "code",
   "execution_count": null,
   "id": "89077ade-d4af-4c74-8a13-460f7da4409b",
   "metadata": {},
   "outputs": [],
   "source": []
  },
  {
   "cell_type": "code",
   "execution_count": null,
   "id": "cbe70675-239d-44a0-a017-2c05a0a5ffc0",
   "metadata": {},
   "outputs": [],
   "source": []
  }
 ],
 "metadata": {
  "kernelspec": {
   "display_name": "Python 3 (ipykernel)",
   "language": "python",
   "name": "python3"
  },
  "language_info": {
   "codemirror_mode": {
    "name": "ipython",
    "version": 3
   },
   "file_extension": ".py",
   "mimetype": "text/x-python",
   "name": "python",
   "nbconvert_exporter": "python",
   "pygments_lexer": "ipython3",
   "version": "3.10.8"
  }
 },
 "nbformat": 4,
 "nbformat_minor": 5
}
